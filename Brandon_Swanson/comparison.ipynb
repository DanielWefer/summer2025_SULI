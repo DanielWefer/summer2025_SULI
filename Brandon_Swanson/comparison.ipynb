{
 "cells": [
  {
   "cell_type": "markdown",
   "id": "a5c29724-583c-4409-b39a-a2593fd0957c",
   "metadata": {},
   "source": [
    "# **This file is to run code to produce comparison graphs for the Summer 2025 SULI appointment**\n",
    "#### *Coded by Brandon Swanson<br>Mentored by Bhupendra Raut*"
   ]
  },
  {
   "cell_type": "code",
   "execution_count": null,
   "id": "eadcaa94-55b8-4992-91c2-c60cb2825978",
   "metadata": {},
   "outputs": [],
   "source": []
  }
 ],
 "metadata": {
  "kernelspec": {
   "display_name": "Python 3 (ipykernel)",
   "language": "python",
   "name": "python3"
  },
  "language_info": {
   "codemirror_mode": {
    "name": "ipython",
    "version": 3
   },
   "file_extension": ".py",
   "mimetype": "text/x-python",
   "name": "python",
   "nbconvert_exporter": "python",
   "pygments_lexer": "ipython3",
   "version": "3.13.3"
  }
 },
 "nbformat": 4,
 "nbformat_minor": 5
}
